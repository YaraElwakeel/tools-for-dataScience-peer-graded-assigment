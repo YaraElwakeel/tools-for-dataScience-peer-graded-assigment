{
 "cells": [
  {
   "cell_type": "markdown",
   "id": "fcd5b1b2-3219-4c5a-9aef-3e6f4a48af50",
   "metadata": {},
   "source": [
    "# Data Science Tools and Ecosystem"
   ]
  },
  {
   "cell_type": "markdown",
   "id": "7d1dee46-dc52-491f-8893-d5ed6f690a66",
   "metadata": {},
   "source": [
    "In this notebook, Data Science Tools and Ecosystem are summarized."
   ]
  },
  {
   "cell_type": "markdown",
   "id": "f03e2d42-1f3b-454f-9aef-20747713a17f",
   "metadata": {},
   "source": [
    "**Objectives:**\n",
    "- List popular languages for Data Science\n",
    "- libraries used by Data Scientists \n",
    "- Examples of evaluating arithmetic expressions in Python"
   ]
  },
  {
   "cell_type": "markdown",
   "id": "089b3b35-a50a-4f4d-aac0-5c0ed0db678c",
   "metadata": {},
   "source": [
    "Some of the popular languages that Data Scientists use are:\n",
    "1. Python \n",
    "1. SQL\n",
    "1. R"
   ]
  },
  {
   "cell_type": "markdown",
   "id": "14483518-f06b-4e1e-8087-893962f9dda8",
   "metadata": {},
   "source": [
    "Some of the commonly used libraries used by Data Scientists include:\n",
    "1. numpy\n",
    "1. matplotlib\n",
    "1. keras\n",
    "1. Pandas\n",
    "1. pytorch\n",
    "1. scikit-learn\n",
    "    "
   ]
  },
  {
   "cell_type": "markdown",
   "id": "82a6825c-911d-4720-bef9-eddf55010436",
   "metadata": {},
   "source": [
    "|Data Science Tools|\n",
    "--------------------\n",
    "| RStudio |\n",
    "|jupyterlab|\n",
    "| Watson studios |"
   ]
  },
  {
   "cell_type": "markdown",
   "id": "b6f93b65-2301-4e34-9869-8f75d1b14c3a",
   "metadata": {
    "tags": []
   },
   "source": [
    "### Below are a few examples of evaluating arithmetic expressions in Python\n"
   ]
  },
  {
   "cell_type": "code",
   "execution_count": 1,
   "id": "1f805c6d-8a86-42d9-8127-20226b71a45f",
   "metadata": {},
   "outputs": [
    {
     "name": "stdout",
     "output_type": "stream",
     "text": [
      "17\n"
     ]
    }
   ],
   "source": [
    "# This a simple arithmetic expression to mutiply then add integers\n",
    "print((3*4)+5)"
   ]
  },
  {
   "cell_type": "code",
   "execution_count": 5,
   "id": "4d889565-eec4-4aae-aa9c-37ef5e7b7600",
   "metadata": {},
   "outputs": [
    {
     "name": "stdout",
     "output_type": "stream",
     "text": [
      "3.3333333333333335 hours\n"
     ]
    }
   ],
   "source": [
    "# This will convert 200 minutes to hours by diving by 60\n",
    "print(200/60, \"hours\")"
   ]
  },
  {
   "cell_type": "markdown",
   "id": "563c326a-3c47-47ea-be09-b8d5da4dc618",
   "metadata": {},
   "source": [
    "## Author\n",
    "Yara Mohamed Helmy Hassan Elwakeel "
   ]
  },
  {
   "cell_type": "code",
   "execution_count": null,
   "id": "bd7da288-9c58-4625-90d8-7e314e8f8986",
   "metadata": {},
   "outputs": [],
   "source": []
  }
 ],
 "metadata": {
  "kernelspec": {
   "display_name": "Python",
   "language": "python",
   "name": "conda-env-python-py"
  },
  "language_info": {
   "codemirror_mode": {
    "name": "ipython",
    "version": 3
   },
   "file_extension": ".py",
   "mimetype": "text/x-python",
   "name": "python",
   "nbconvert_exporter": "python",
   "pygments_lexer": "ipython3",
   "version": "3.7.12"
  }
 },
 "nbformat": 4,
 "nbformat_minor": 5
}
